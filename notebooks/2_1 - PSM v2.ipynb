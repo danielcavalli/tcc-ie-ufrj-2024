{
 "cells": [
  {
   "cell_type": "code",
   "execution_count": 3,
   "metadata": {},
   "outputs": [],
   "source": [
    "from PSM import PSMatcher\n",
    "import pandas as pd"
   ]
  },
  {
   "cell_type": "code",
   "execution_count": 4,
   "metadata": {},
   "outputs": [],
   "source": [
    "# Usage implementation\n",
    "def run_psm_analysis(input_file, output_file):\n",
    "    \"\"\"Run the entire PSM analysis pipeline.\"\"\"\n",
    "    # Read data\n",
    "    df = pd.read_csv(input_file)\n",
    "    \n",
    "    # Initialize matcher\n",
    "    matcher = PSMatcher(caliper=0.2, n_matches=7)\n",
    "    \n",
    "    # Perform matching\n",
    "    matched_df = matcher.perform_matching(df)\n",
    "    \n",
    "    if matched_df is not None:\n",
    "        print(\"\\nMatching Summary:\")\n",
    "        print(f\"Total treatment events: {matched_df['treated_region'].nunique()}\")\n",
    "        print(f\"Total matched pairs: {len(matched_df[matched_df['matched_control'] == 1])}\")\n",
    "        \n",
    "        # Save matched dataset\n",
    "        matched_df.to_csv(output_file, index=False)\n",
    "        \n",
    "        # Print matching structure\n",
    "        print(\"\\nMatching Structure:\")\n",
    "        matching_summary = matched_df.groupby('match_id').agg({\n",
    "            'matched_control': 'sum',\n",
    "            'id_microrregiao': 'count'\n",
    "        }).reset_index()\n",
    "        print(matching_summary.head())\n",
    "        \n",
    "        return matched_df\n",
    "    else:\n",
    "        print(\"No valid matches found.\")\n",
    "        return None"
   ]
  },
  {
   "cell_type": "code",
   "execution_count": 6,
   "metadata": {},
   "outputs": [
    {
     "ename": "AttributeError",
     "evalue": "'PSMatcher' object has no attribute 'perform_matching'",
     "output_type": "error",
     "traceback": [
      "\u001b[1;31m---------------------------------------------------------------------------\u001b[0m",
      "\u001b[1;31mAttributeError\u001b[0m                            Traceback (most recent call last)",
      "Cell \u001b[1;32mIn[6], line 1\u001b[0m\n\u001b[1;32m----> 1\u001b[0m \u001b[43mrun_psm_analysis\u001b[49m\u001b[43m(\u001b[49m\u001b[38;5;124;43m\"\u001b[39;49m\u001b[38;5;124;43m../data/csv/PAM_MET_SugarCane.csv\u001b[39;49m\u001b[38;5;124;43m\"\u001b[39;49m\u001b[43m,\u001b[49m\u001b[43m \u001b[49m\u001b[38;5;124;43m\"\u001b[39;49m\u001b[38;5;124;43mmatched_data_sugar_cane.csv\u001b[39;49m\u001b[38;5;124;43m\"\u001b[39;49m\u001b[43m)\u001b[49m\n",
      "Cell \u001b[1;32mIn[4], line 11\u001b[0m, in \u001b[0;36mrun_psm_analysis\u001b[1;34m(input_file, output_file)\u001b[0m\n\u001b[0;32m      8\u001b[0m matcher \u001b[38;5;241m=\u001b[39m PSMatcher(caliper\u001b[38;5;241m=\u001b[39m\u001b[38;5;241m0.2\u001b[39m, n_matches\u001b[38;5;241m=\u001b[39m\u001b[38;5;241m7\u001b[39m)\n\u001b[0;32m     10\u001b[0m \u001b[38;5;66;03m# Perform matching\u001b[39;00m\n\u001b[1;32m---> 11\u001b[0m matched_df \u001b[38;5;241m=\u001b[39m \u001b[43mmatcher\u001b[49m\u001b[38;5;241;43m.\u001b[39;49m\u001b[43mperform_matching\u001b[49m(df)\n\u001b[0;32m     13\u001b[0m \u001b[38;5;28;01mif\u001b[39;00m matched_df \u001b[38;5;129;01mis\u001b[39;00m \u001b[38;5;129;01mnot\u001b[39;00m \u001b[38;5;28;01mNone\u001b[39;00m:\n\u001b[0;32m     14\u001b[0m     \u001b[38;5;28mprint\u001b[39m(\u001b[38;5;124m\"\u001b[39m\u001b[38;5;130;01m\\n\u001b[39;00m\u001b[38;5;124mMatching Summary:\u001b[39m\u001b[38;5;124m\"\u001b[39m)\n",
      "\u001b[1;31mAttributeError\u001b[0m: 'PSMatcher' object has no attribute 'perform_matching'"
     ]
    }
   ],
   "source": [
    "run_psm_analysis(\"../data/csv/PAM_MET_SugarCane.csv\", \"matched_data_sugar_cane.csv\")"
   ]
  }
 ],
 "metadata": {
  "kernelspec": {
   "display_name": "tcc-env",
   "language": "python",
   "name": "python3"
  },
  "language_info": {
   "codemirror_mode": {
    "name": "ipython",
    "version": 3
   },
   "file_extension": ".py",
   "mimetype": "text/x-python",
   "name": "python",
   "nbconvert_exporter": "python",
   "pygments_lexer": "ipython3",
   "version": "3.13.0"
  }
 },
 "nbformat": 4,
 "nbformat_minor": 2
}
