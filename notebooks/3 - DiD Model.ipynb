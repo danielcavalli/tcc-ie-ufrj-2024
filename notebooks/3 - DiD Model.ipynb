{
 "cells": [
  {
   "cell_type": "code",
   "execution_count": 1,
   "metadata": {},
   "outputs": [],
   "source": [
    "import pandas as pd\n",
    "import numpy as np\n",
    "from linearmodels import PanelOLS\n",
    "import statsmodels.api as sm\n",
    "import matplotlib.pyplot as plt\n",
    "import seaborn as sns"
   ]
  },
  {
   "cell_type": "code",
   "execution_count": null,
   "metadata": {},
   "outputs": [],
   "source": [
    "def prepare_did_data(matched_df):\n",
    "    \"\"\"\n",
    "    Prepare matched data for simple DiD\n",
    "    \"\"\"\n",
    "    df = matched_df.copy()\n",
    "    \n",
    "    # Create post-treatment indicator\n",
    "    #df['post'] = (df['ano'] >= df['treatment_year']).astype(int)\n",
    "    \n",
    "    # Create treatment effect\n",
    "    df['treat_effect'] = df['pos_tratamento'] * (df['matched_control'] == 0).astype(int)\n",
    "    \n",
    "    # Set panel index\n",
    "    df = df.set_index(['id_microrregiao', 'ano'])\n",
    "    \n",
    "    return df"
   ]
  },
  {
   "cell_type": "code",
   "execution_count": 3,
   "metadata": {},
   "outputs": [],
   "source": [
    "def run_did(df):\n",
    "    \"\"\"\n",
    "    Run simple DiD regression\n",
    "    \"\"\"\n",
    "    model = PanelOLS(\n",
    "        dependent=df['total_valor_producao'],\n",
    "        exog=sm.add_constant(df[['treat_effect']]),\n",
    "        entity_effects=True,\n",
    "        time_effects=True\n",
    "    )\n",
    "    \n",
    "    results = model.fit(cov_type='clustered', cluster_entity=True)\n",
    "    return results"
   ]
  },
  {
   "cell_type": "code",
   "execution_count": null,
   "metadata": {},
   "outputs": [],
   "source": [
    "matched_df = pd.read_csv('../data/csv/QTD_EST_sugar_cane.csv')\n",
    "did_data = prepare_did_data(matched_df)\n",
    "results = run_did(did_data)"
   ]
  },
  {
   "cell_type": "code",
   "execution_count": 6,
   "metadata": {},
   "outputs": [
    {
     "name": "stdout",
     "output_type": "stream",
     "text": [
      "\n",
      "DiD Results:\n",
      "                           PanelOLS Estimation Summary                            \n",
      "==================================================================================\n",
      "Dep. Variable:     total_valor_producao   R-squared:                        0.8033\n",
      "Estimator:                     PanelOLS   R-squared (Between):             -0.0042\n",
      "No. Observations:                   230   R-squared (Within):               0.5236\n",
      "Date:                  Fri, Nov 22 2024   R-squared (Overall):             -0.0020\n",
      "Time:                          20:31:58   Log-likelihood                   -1550.7\n",
      "Cov. Estimator:               Clustered                                           \n",
      "                                          F-statistic:                      400.28\n",
      "Entities:                           124   P-value                           0.0000\n",
      "Avg Obs:                         1.8548   Distribution:                    F(1,98)\n",
      "Min Obs:                         1.0000                                           \n",
      "Max Obs:                         23.000   F-statistic (robust):             8.5431\n",
      "                                          P-value                           0.0043\n",
      "Time periods:                         8   Distribution:                    F(1,98)\n",
      "Avg Obs:                         28.750                                           \n",
      "Min Obs:                         1.0000                                           \n",
      "Max Obs:                         80.000                                           \n",
      "                                                                                  \n",
      "                              Parameter Estimates                               \n",
      "================================================================================\n",
      "              Parameter  Std. Err.     T-stat    P-value    Lower CI    Upper CI\n",
      "--------------------------------------------------------------------------------\n",
      "const         6.042e+04     534.55     113.04     0.0000   5.936e+04   6.148e+04\n",
      "treat_effect     3782.7     1294.2     2.9229     0.0043      1214.4      6350.9\n",
      "================================================================================\n",
      "\n",
      "F-test for Poolability: 6.21e+05\n",
      "P-value: 0.0000\n",
      "Distribution: F(130,98)\n",
      "\n",
      "Included effects: Entity, Time\n"
     ]
    }
   ],
   "source": [
    "print(\"\\nDiD Results:\")\n",
    "print(results.summary)"
   ]
  },
  {
   "cell_type": "code",
   "execution_count": null,
   "metadata": {},
   "outputs": [],
   "source": []
  }
 ],
 "metadata": {
  "kernelspec": {
   "display_name": "tcc-env",
   "language": "python",
   "name": "python3"
  },
  "language_info": {
   "codemirror_mode": {
    "name": "ipython",
    "version": 3
   },
   "file_extension": ".py",
   "mimetype": "text/x-python",
   "name": "python",
   "nbconvert_exporter": "python",
   "pygments_lexer": "ipython3",
   "version": "3.13.0"
  }
 },
 "nbformat": 4,
 "nbformat_minor": 2
}
