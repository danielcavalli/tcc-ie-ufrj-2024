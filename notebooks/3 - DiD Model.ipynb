{
 "cells": [
  {
   "cell_type": "code",
   "execution_count": 1,
   "metadata": {},
   "outputs": [],
   "source": [
    "import pandas as pd\n",
    "import numpy as np\n",
    "from linearmodels import PanelOLS\n",
    "import statsmodels.api as sm\n",
    "import matplotlib.pyplot as plt\n",
    "import seaborn as sns"
   ]
  },
  {
   "cell_type": "code",
   "execution_count": 30,
   "metadata": {},
   "outputs": [],
   "source": [
    "def prepare_did_data(matched_df):\n",
    "    \"\"\"\n",
    "    Prepare matched data for simple DiD\n",
    "    \"\"\"\n",
    "    df = matched_df.copy()\n",
    "    \n",
    "    # Create post-treatment indicator\n",
    "    df['post'] = (df['ano'] >= df['treatment_year']).astype(int)\n",
    "    \n",
    "    # Create treatment effect\n",
    "    df['treat_effect'] = df['post'] * (df['matched_control'] == 0).astype(int)\n",
    "    \n",
    "    # Set panel index\n",
    "    df = df.set_index(['id_microrregiao', 'ano'])\n",
    "    \n",
    "    return df"
   ]
  },
  {
   "cell_type": "code",
   "execution_count": 31,
   "metadata": {},
   "outputs": [],
   "source": [
    "def run_did(df):\n",
    "    \"\"\"\n",
    "    Run simple DiD regression\n",
    "    \"\"\"\n",
    "    model = PanelOLS(\n",
    "        dependent=df['total_valor_producao'],\n",
    "        exog=sm.add_constant(df[['treat_effect']]),\n",
    "        entity_effects=True,\n",
    "        time_effects=True\n",
    "    )\n",
    "    \n",
    "    results = model.fit(cov_type='clustered', cluster_entity=True)\n",
    "    return results"
   ]
  },
  {
   "cell_type": "code",
   "execution_count": 36,
   "metadata": {},
   "outputs": [],
   "source": [
    "matched_df = pd.read_csv('../data/matched_data_for_did.csv')\n",
    "did_data = prepare_did_data(matched_df)\n",
    "results = run_did(did_data)"
   ]
  },
  {
   "cell_type": "code",
   "execution_count": 37,
   "metadata": {},
   "outputs": [
    {
     "name": "stdout",
     "output_type": "stream",
     "text": [
      "\n",
      "DiD Results:\n",
      "                           PanelOLS Estimation Summary                            \n",
      "==================================================================================\n",
      "Dep. Variable:     total_valor_producao   R-squared:                        0.0020\n",
      "Estimator:                     PanelOLS   R-squared (Between):             -0.0024\n",
      "No. Observations:                   843   R-squared (Within):              -0.0013\n",
      "Date:                  Fri, Nov 08 2024   R-squared (Overall):           3.392e-05\n",
      "Time:                          23:52:47   Log-likelihood                   -620.28\n",
      "Cov. Estimator:               Clustered                                           \n",
      "                                          F-statistic:                      1.0395\n",
      "Entities:                           305   P-value                           0.3084\n",
      "Avg Obs:                         2.7639   Distribution:                   F(1,522)\n",
      "Min Obs:                         1.0000                                           \n",
      "Max Obs:                         17.000   F-statistic (robust):             0.3283\n",
      "                                          P-value                           0.5669\n",
      "Time periods:                        16   Distribution:                   F(1,522)\n",
      "Avg Obs:                         52.688                                           \n",
      "Min Obs:                         1.0000                                           \n",
      "Max Obs:                         367.00                                           \n",
      "                                                                                  \n",
      "                              Parameter Estimates                               \n",
      "================================================================================\n",
      "              Parameter  Std. Err.     T-stat    P-value    Lower CI    Upper CI\n",
      "--------------------------------------------------------------------------------\n",
      "const            3.0978     0.0370     83.696     0.0000      3.0251      3.1705\n",
      "treat_effect    -0.0881     0.1537    -0.5730     0.5669     -0.3900      0.2139\n",
      "================================================================================\n",
      "\n",
      "F-test for Poolability: 388.81\n",
      "P-value: 0.0000\n",
      "Distribution: F(319,522)\n",
      "\n",
      "Included effects: Entity, Time\n"
     ]
    }
   ],
   "source": [
    "print(\"\\nDiD Results:\")\n",
    "print(results.summary)"
   ]
  },
  {
   "cell_type": "code",
   "execution_count": null,
   "metadata": {},
   "outputs": [],
   "source": []
  }
 ],
 "metadata": {
  "kernelspec": {
   "display_name": "tcc-env",
   "language": "python",
   "name": "python3"
  },
  "language_info": {
   "codemirror_mode": {
    "name": "ipython",
    "version": 3
   },
   "file_extension": ".py",
   "mimetype": "text/x-python",
   "name": "python",
   "nbconvert_exporter": "python",
   "pygments_lexer": "ipython3",
   "version": "3.13.0"
  }
 },
 "nbformat": 4,
 "nbformat_minor": 2
}
